{
 "cells": [
  {
   "cell_type": "markdown",
   "metadata": {},
   "source": [
    "# Libraries"
   ]
  },
  {
   "cell_type": "code",
   "execution_count": 2,
   "metadata": {},
   "outputs": [],
   "source": [
    "import pandas as pd\n",
    "import numpy as np\n",
    "\n",
    "import matplotlib.pyplot as plt\n",
    "import seaborn as sns\n",
    "from wordcloud import WordCloud, STOPWORDS, ImageColorGenerator\n",
    "\n",
    "from sklearn.metrics.pairwise import cosine_similarity\n",
    "from sklearn.feature_extraction.text import CountVectorizer\n",
    "\n",
    "from sklearn import metrics\n",
    "from sklearn.cluster import KMeans\n",
    "from sklearn.preprocessing import MinMaxScaler\n",
    "\n",
    "from nltk.corpus import stopwords \n",
    "import string\n",
    "from textblob import TextBlob"
   ]
  },
  {
   "cell_type": "markdown",
   "metadata": {},
   "source": [
    "# Data"
   ]
  },
  {
   "cell_type": "code",
   "execution_count": 3,
   "metadata": {},
   "outputs": [],
   "source": [
    "#import data on cities and attractions\n",
    "df = pd.read_csv('Data.csv')"
   ]
  },
  {
   "cell_type": "markdown",
   "metadata": {},
   "source": [
    "# Data Cleaning"
   ]
  },
  {
   "cell_type": "code",
   "execution_count": 4,
   "metadata": {},
   "outputs": [],
   "source": [
    "#fix column names\n",
    "#description -> desc\n",
    "#reviewers -> revs\n",
    "#tcity15cd -> towncity_id\n",
    "#attraction -> attr\n",
    "df.columns = df.columns.str.lower().str.replace('tcity15cd', 'towncity_id').str.replace('attraction', 'attr').str.replace('description', 'desc').str.replace('reviewers', 'revs').str.replace(' ', '_')"
   ]
  },
  {
   "cell_type": "code",
   "execution_count": 5,
   "metadata": {},
   "outputs": [],
   "source": [
    "#drop null rows\n",
    "df.drop(axis = 0, index = [109, 110, 111], inplace = True)"
   ]
  },
  {
   "cell_type": "code",
   "execution_count": 6,
   "metadata": {},
   "outputs": [],
   "source": [
    "#removing trailing white space from town/city \n",
    "df['town/city'] = [x.rstrip() for x in df['town/city']]"
   ]
  },
  {
   "cell_type": "code",
   "execution_count": 7,
   "metadata": {},
   "outputs": [],
   "source": [
    "#fill missing values in reviews\n",
    "#df[['revs_1', 'revs_2', 'revs_3', 'revs_4', 'revs_5', 'revs_6', 'revs_7', 'revs_8', 'revs_9']] = df[['revs_1', 'revs_2', 'revs_3', 'revs_4', 'revs_5', 'revs_6', 'revs_7', 'revs_8', 'revs_9']].fillna(0)\n",
    "\n",
    "#change review data type to int\n",
    "#df[['revs_1', 'revs_2', 'revs_3', 'revs_4', 'revs_5', 'revs_6', 'revs_7', 'revs_8', 'revs_9']] = df[['revs_1', 'revs_2', 'revs_3', 'revs_4', 'revs_5', 'revs_6', 'revs_7', 'revs_8', 'revs_9']].astype('int64')\n",
    "\n",
    "#create total reviews column\n",
    "#df['total_revs'] = df.revs_1 + df.revs_2 + df.revs_3 + df.revs_4 + df.revs_5 + df.revs_6 + df.revs_7 + df.revs_7 + df.revs_9"
   ]
  },
  {
   "cell_type": "code",
   "execution_count": 8,
   "metadata": {},
   "outputs": [],
   "source": [
    "#drop review columns since they will not be used\n",
    "df.drop(columns = ['revs_1', 'revs_2', 'revs_3', 'revs_4', 'revs_5', 'revs_6', 'revs_7', 'revs_8', 'revs_9'], inplace=True)\n",
    "\n",
    "#drop ratings columns since they will not be used\n",
    "df.drop(columns = ['rating_1', 'rating_2', 'rating_3', 'rating_4', 'rating_5', 'rating_6', 'rating_7', 'rating_8', 'rating_9'], inplace=True)"
   ]
  },
  {
   "cell_type": "code",
   "execution_count": 9,
   "metadata": {},
   "outputs": [],
   "source": [
    "#fix naming error\n",
    "df.rename(columns = {'attr_6.1':'attr_7'}, inplace = True)"
   ]
  },
  {
   "cell_type": "code",
   "execution_count": 10,
   "metadata": {},
   "outputs": [],
   "source": [
    "#set data type to string so the function will concat\n",
    "df[['attr_1', 'desc_1', 'attr_2', 'desc_2', 'attr_3', 'desc_3', 'attr_4', 'desc_4', 'attr_5', 'desc_5', 'attr_6', 'desc_6', 'attr_7', 'desc_7', 'attr_8', 'desc_8', 'attr_9', 'desc_9']] = df[['attr_1', 'desc_1', 'attr_2', 'desc_2', 'attr_3', 'desc_3', 'attr_4', 'desc_4', 'attr_5', 'desc_5', 'attr_6', 'desc_6', 'attr_7', 'desc_7', 'attr_8', 'desc_8', 'attr_9', 'desc_9']].astype('str')"
   ]
  },
  {
   "cell_type": "code",
   "execution_count": 11,
   "metadata": {},
   "outputs": [],
   "source": [
    "#change tags data type to string\n",
    "df.tags = df.tags.astype('str')"
   ]
  },
  {
   "cell_type": "code",
   "execution_count": 12,
   "metadata": {},
   "outputs": [],
   "source": [
    "#replace nulls in the descriptions and attractions\n",
    "df[['attr_1', 'desc_1', 'attr_2', 'desc_2', 'attr_3', 'desc_3', 'attr_4', 'desc_4', 'attr_5', 'desc_5', 'attr_6', 'desc_6', 'attr_7', 'desc_7', 'attr_8', 'desc_8', 'attr_9', 'desc_9']] = df[['attr_1', 'desc_1', 'attr_2', 'desc_2', 'attr_3', 'desc_3', 'attr_4', 'desc_4', 'attr_5', 'desc_5', 'attr_6', 'desc_6', 'attr_7', 'desc_7', 'attr_8', 'desc_8', 'attr_9', 'desc_9']].fillna('none')"
   ]
  },
  {
   "cell_type": "code",
   "execution_count": 76,
   "metadata": {},
   "outputs": [
    {
     "data": {
      "text/plain": [
       "Index(['towncity_id', 'town/city', 'region/country', 'attr_1', 'desc_1',\n",
       "       'attr_2', 'desc_2', 'attr_3', 'desc_3', 'attr_4', 'desc_4', 'attr_5',\n",
       "       'desc_5', 'attr_6', 'desc_6', 'attr_7', 'desc_7', 'attr_8', 'desc_8',\n",
       "       'attr_9', 'desc_9', 'tags', 'simple_id', 'keywords'],\n",
       "      dtype='object')"
      ]
     },
     "execution_count": 76,
     "metadata": {},
     "output_type": "execute_result"
    }
   ],
   "source": [
    "#check that columns are correctly labeled and only wanted columns remain\n",
    "df.columns"
   ]
  },
  {
   "cell_type": "code",
   "execution_count": 75,
   "metadata": {},
   "outputs": [
    {
     "data": {
      "text/plain": [
       "towncity_id       0\n",
       "town/city         0\n",
       "region/country    0\n",
       "attr_1            0\n",
       "desc_1            0\n",
       "attr_2            0\n",
       "desc_2            0\n",
       "attr_3            0\n",
       "desc_3            0\n",
       "attr_4            0\n",
       "desc_4            0\n",
       "attr_5            0\n",
       "desc_5            0\n",
       "attr_6            0\n",
       "desc_6            0\n",
       "attr_7            0\n",
       "desc_7            0\n",
       "attr_8            0\n",
       "desc_8            0\n",
       "attr_9            0\n",
       "desc_9            0\n",
       "tags              0\n",
       "simple_id         0\n",
       "keywords          0\n",
       "dtype: int64"
      ]
     },
     "execution_count": 75,
     "metadata": {},
     "output_type": "execute_result"
    }
   ],
   "source": [
    "#check that all nulls have been filled \n",
    "df.isnull().sum()"
   ]
  },
  {
   "cell_type": "markdown",
   "metadata": {},
   "source": [
    "# Data Preparation"
   ]
  },
  {
   "cell_type": "code",
   "execution_count": 13,
   "metadata": {},
   "outputs": [],
   "source": [
    "#create simple id column for use in model\n",
    "df['simple_id'] = range(1,110)"
   ]
  },
  {
   "cell_type": "code",
   "execution_count": 101,
   "metadata": {},
   "outputs": [],
   "source": [
    "#create stopwords to be used in Count Vectorizer\n",
    "stpwrd = stopwords.words('english')\n",
    "stpwrd.extend(['none', \"'s\", 's'])\n",
    "stpwrd.extend(string.punctuation)"
   ]
  },
  {
   "cell_type": "code",
   "execution_count": 15,
   "metadata": {},
   "outputs": [],
   "source": [
    "# create keywords function\n",
    "def get_keywords(df):\n",
    "    '''Concats the strings from the attraction columns to form a list of keywords'''\n",
    "    keywords = []\n",
    "    for i in range(0, df.shape[0]):\n",
    "        keywords.append(df['attr_1'][i] + ' ' + df['attr_2'][i] + ' ' + df['attr_3'][i] + ' ' + df['attr_4'][i] + ' ' + df['attr_5'][i] + ' ' + df['attr_6'][i] + ' ' + df['attr_7'][i] + ' ' + df['attr_8'][i] + ' ' + df['attr_9'][i] + ' ' + df['desc_1'][i] + ' ' + df['desc_2'][i] + ' ' + df['desc_3'][i] + ' ' + df['desc_4'][i] + ' ' + df['desc_5'][i] + ' ' + df['desc_6'][i] + ' ' + df['desc_7'][i] + ' ' + df['desc_8'][i] + ' ' + df['desc_9'][i])\n",
    "    \n",
    "    return keywords"
   ]
  },
  {
   "cell_type": "code",
   "execution_count": 70,
   "metadata": {},
   "outputs": [],
   "source": [
    "#create keywords column for use in model\n",
    "df['keywords'] = get_keywords(df)"
   ]
  },
  {
   "cell_type": "code",
   "execution_count": 74,
   "metadata": {},
   "outputs": [],
   "source": [
    "#create function to modify keywords\n",
    "def mod_keywords(keywords):\n",
    "    '''Carries out NLP on keywords to normalise them'''\n",
    "    keys = TextBlob(keywords)\n",
    "    keys = keys.lower()\n",
    "    keys = keys.words\n",
    "    keys = keys.lemmatize()\n",
    "    \n",
    "    keys = ' '.join(keys)\n",
    "    \n",
    "    return keys"
   ]
  },
  {
   "cell_type": "code",
   "execution_count": 71,
   "metadata": {},
   "outputs": [],
   "source": [
    "#modify keywords\n",
    "df['keywords'] = df['keywords'].apply(mod_keywords)"
   ]
  },
  {
   "cell_type": "code",
   "execution_count": 77,
   "metadata": {},
   "outputs": [
    {
     "data": {
      "text/plain": [
       "0     calypso cove waterpark the cooper gallery lock...\n",
       "1     wat tyler centre festival leisure park barley ...\n",
       "2     milestone museum festival place willis musuem ...\n",
       "3     the roman bath bath abbey thermae bath spa pul...\n",
       "4     zsl whipsnade zoo woburn safari park wrest par...\n",
       "5     royal albert dock liverpool tate liverpool the...\n",
       "6     birmingham museum art gallery cadbury world bl...\n",
       "7     blackburn museum art gallery witton country pa...\n",
       "8     blackpool pleasure beach blackpool zoo sandcas...\n",
       "9     rivington pike bolton museum art gallery aquar...\n",
       "10    brownsea island old harry rock hengistbury hea...\n",
       "11    coral reef bracknell 's waterworld south hill ...\n",
       "12    national science and medium museum brontë pars...\n",
       "13    royal pavilion brighton palace pier british ai...\n",
       "14    clifton suspension bridge brunel 's s great br...\n",
       "15    towneley hall thompson park national trust gaw...\n",
       "16    the national brewery centre claymills victoria...\n",
       "17    east lancs railway bury art museum sculpture c...\n",
       "18    the fitzwilliam museum kettle 's yard cambridg...\n",
       "19    carlisle castle tullie house museum and art ga...\n",
       "20    cape cod national seashore chatham lighthouse ...\n",
       "21    chelmsford museum chelmsford cathedral hylands...\n",
       "22    the wilson pittville park cheltenham racecours...\n",
       "23    chester cathedral chester zoo the grosvenor mu...\n",
       "24    chesterfield parish church chesterfield museum...\n",
       "25    colchester castle firstsite highwoods country ...\n",
       "26    kenilworth castle and elizabethan garden coven...\n",
       "27    tilgate park buchan country park go ape crawle...\n",
       "28    head of steam darlington railway museum south ...\n",
       "29    chatsworth house haddon hall mam tor national ...\n",
       "30    cusworth hall doncaster museum and art gallery...\n",
       "31    black country living museum dudley zoo and cas...\n",
       "32    towner eastbourne eastbourne pier eastbourne b...\n",
       "33    exeter cathedral royal albert memorial museum ...\n",
       "34    baltic centre for contemporary art newcastle c...\n",
       "35    the historic dockyard chatham royal engineer m...\n",
       "36    gloucester cathedral museum of gloucester nati...\n",
       "37    grimsby fishing heritage centre cleethorpes be...\n",
       "38    guildford castle guildford cathedral guildford...\n",
       "39    eureka the national child 's museum the piece ...\n",
       "40    harlow town park the gibberd garden gibberd ga...\n",
       "41    rh garden harlow carr turkish bath harrogate m...\n",
       "42    national museum of the royal navy hartlepool h...\n",
       "43    hastings contemporary hastings castle hastings...\n",
       "44    the snow centre gadebridge park frogmore paper...\n",
       "45    wycombe museum wedding venue national trust hu...\n",
       "46    castle hill beaumont park tolson memorial muse...\n",
       "47    christchurch mansion ipswich museum christchur...\n",
       "48    the deep humber bridge ferens art gallery stre...\n",
       "49    harewood house trust royal armoury museum the ...\n",
       "Name: keywords, dtype: object"
      ]
     },
     "execution_count": 77,
     "metadata": {},
     "output_type": "execute_result"
    }
   ],
   "source": [
    "#check that key words look as expected\n",
    "df.keywords.head(50)"
   ]
  },
  {
   "cell_type": "markdown",
   "metadata": {},
   "source": [
    "# The Model"
   ]
  },
  {
   "cell_type": "code",
   "execution_count": 103,
   "metadata": {},
   "outputs": [],
   "source": [
    "#create recommendation engine\n",
    "def recommend_place(df, last_visted_place, keyword1):\n",
    "    \"\"\"Prints top 5 recommended towns/cities to visit in England based on the last place visted.\n",
    "    Parameters\n",
    "    -------------\n",
    "    df: The dataframe - towns/cities, their attractions and descriptions\n",
    "    last_visted_place: Last town/city visited\n",
    "    keyword: Related to the type of attraction - eg. National Trust, Park, Museum, Spa\n",
    "    Results\n",
    "    -------------\n",
    "    Top 5 recommended place to visit which have the specified keyword\"\"\"\n",
    "\n",
    "    #accounting for whether a keyword is used\n",
    "    if keyword1.lower() == 'none' or 'na' or ' ':\n",
    "        rec_df = df\n",
    "    else:\n",
    "        rec_df = df[df['keywords'].str.contains(keyword1, case = False)]\n",
    "\n",
    "    #.lower() to remove case sensitivity\n",
    "    prev_visit = last_visted_place.lower()\n",
    "\n",
    "    #update rec_df to include data for prev_visit if missing\n",
    "    if prev_visit not in (x.lower() for x in rec_df['town/city']):\n",
    "        missing_row = df[df['town/city'].str.lower() == prev_visit]\n",
    "        updated_df = [rec_df, missing_row]\n",
    "        rec_df = pd.concat(updated_df)\n",
    "\n",
    "    #reset simple_id column for rec_df\n",
    "    rec_df['simple_id'] = range(0, rec_df.shape[0])\n",
    "\n",
    "    #get the id for the target place i.e. prev_visit\n",
    "    target_place = rec_df[rec_df['town/city'].str.lower() == prev_visit]['simple_id'].values[0]\n",
    "\n",
    "    #convert the text to a matrix of token counts\n",
    "    keyword_matrix = CountVectorizer(stop_words = stpwrd).fit_transform(rec_df['keywords'])\n",
    "    #calculate similarity\n",
    "    cs = cosine_similarity(keyword_matrix)\n",
    "\n",
    "    #list of scores for the target place\n",
    "    scores = list(enumerate(cs[target_place]))\n",
    "    #sort scores \n",
    "    sorted_scores = sorted(scores, key = lambda x:x[1], reverse = True)\n",
    "    #drop first because it would be the same as the input therefore 1\n",
    "    sorted_scores = sorted_scores[1:]\n",
    "\n",
    "    #recommendation results\n",
    "    q = 0\n",
    "    print(f'Top 5 recommended towns/cities based on your last visited place - {prev_visit.capitalize()}:\\n -----------------------------------------------------')\n",
    "    for score in sorted_scores:\n",
    "        next_visit = rec_df[rec_df.simple_id == score[0]]['town/city'].values[0]\n",
    "        q = q+1\n",
    "        print(q, next_visit)\n",
    "        if q == 5:\n",
    "            break"
   ]
  },
  {
   "cell_type": "code",
   "execution_count": 104,
   "metadata": {},
   "outputs": [
    {
     "name": "stdout",
     "output_type": "stream",
     "text": [
      "Top 5 recommended towns/cities based on your last visited place - London:\n",
      " -----------------------------------------------------\n",
      "1 Brighton and Hove\n",
      "2 Carlisle\n",
      "3 Bristol\n",
      "4 Newcastle upon Tyne\n",
      "5 Manchester\n"
     ]
    }
   ],
   "source": [
    "recommend_place(df, 'london', ' ')"
   ]
  },
  {
   "cell_type": "markdown",
   "metadata": {},
   "source": [
    "# Validation"
   ]
  },
  {
   "cell_type": "code",
   "execution_count": 108,
   "metadata": {},
   "outputs": [],
   "source": [
    "#create keyword matrix\n",
    "keyword_matrix = CountVectorizer(stop_words = stpwrd).fit_transform(df['keywords'])"
   ]
  },
  {
   "cell_type": "code",
   "execution_count": 109,
   "metadata": {},
   "outputs": [
    {
     "data": {
      "text/plain": [
       "KMeans(n_clusters=3, random_state=124)"
      ]
     },
     "execution_count": 109,
     "metadata": {},
     "output_type": "execute_result"
    }
   ],
   "source": [
    "#create clusters\n",
    "km = KMeans(n_clusters=3, random_state=124)\n",
    "km.fit(keyword_matrix)"
   ]
  },
  {
   "cell_type": "code",
   "execution_count": 110,
   "metadata": {},
   "outputs": [],
   "source": [
    "#create cluster column\n",
    "df['cluster'] = km.labels_"
   ]
  },
  {
   "cell_type": "code",
   "execution_count": 126,
   "metadata": {},
   "outputs": [
    {
     "data": {
      "text/plain": [
       "array([0, 2, 1])"
      ]
     },
     "execution_count": 126,
     "metadata": {},
     "output_type": "execute_result"
    }
   ],
   "source": [
    "df.cluster.unique()"
   ]
  },
  {
   "cell_type": "code",
   "execution_count": 111,
   "metadata": {},
   "outputs": [
    {
     "data": {
      "text/plain": [
       "0                  Barnsley\n",
       "9                    Bolton\n",
       "18                Cambridge\n",
       "19                 Carlisle\n",
       "26                 Coventry\n",
       "30                Doncaster\n",
       "33                   Exeter\n",
       "36               Gloucester\n",
       "40                   Harlow\n",
       "42               Hartlepool\n",
       "43                 Hastings\n",
       "49                    Leeds\n",
       "50                Leicester\n",
       "51                  Lincoln\n",
       "61     Newcastle-under-Lyme\n",
       "62              Northampton\n",
       "65                 Nuneaton\n",
       "67                   Oxford\n",
       "72                  Preston\n",
       "73                  Reading\n",
       "75                 Rochdale\n",
       "79                Sheffield\n",
       "83            South Shields\n",
       "87                St Albans\n",
       "92           Stoke-on-Trent\n",
       "93               Sunderland\n",
       "95                  Swindon\n",
       "98                  Walsall\n",
       "100                 Watford\n",
       "105           Wolverhampton\n",
       "106               Worcester\n",
       "Name: town/city, dtype: object"
      ]
     },
     "execution_count": 111,
     "metadata": {},
     "output_type": "execute_result"
    }
   ],
   "source": [
    "#check cluster 0\n",
    "df[df['cluster'] == 0]['town/city']"
   ]
  },
  {
   "cell_type": "code",
   "execution_count": 112,
   "metadata": {},
   "outputs": [
    {
     "data": {
      "text/plain": [
       "3                     Bath\n",
       "4                  Bedford\n",
       "5               Birkenhead\n",
       "6               Birmingham\n",
       "12                Bradford\n",
       "13       Brighton and Hove\n",
       "14                 Bristol\n",
       "23                 Chester\n",
       "34               Gateshead\n",
       "48      Kingston upon Hull\n",
       "52               Liverpool\n",
       "53                  London\n",
       "56              Manchester\n",
       "60     Newcastle upon Tyne\n",
       "63                 Norwich\n",
       "64              Nottingham\n",
       "71              Portsmouth\n",
       "84             Southampton\n",
       "96                 Telford\n",
       "101          West Bromwich\n",
       "108                   York\n",
       "Name: town/city, dtype: object"
      ]
     },
     "execution_count": 112,
     "metadata": {},
     "output_type": "execute_result"
    }
   ],
   "source": [
    "#check cluster 1\n",
    "df[df['cluster'] == 1]['town/city']"
   ]
  },
  {
   "cell_type": "code",
   "execution_count": 113,
   "metadata": {},
   "outputs": [
    {
     "data": {
      "text/plain": [
       "1               Basildon\n",
       "2            Basingstoke\n",
       "7              Blackburn\n",
       "8              Blackpool\n",
       "10           Bournemouth\n",
       "11             Bracknell\n",
       "15               Burnley\n",
       "16     Burton upon Trent\n",
       "17                  Bury\n",
       "20               Chatham\n",
       "21            Chelmsford\n",
       "22            Cheltenham\n",
       "24          Chesterfield\n",
       "25            Colchester\n",
       "27               Crawley\n",
       "28            Darlington\n",
       "29                 Derby\n",
       "31                Dudley\n",
       "32            Eastbourne\n",
       "35            Gillingham\n",
       "37               Grimsby\n",
       "38             Guildford\n",
       "39               Halifax\n",
       "41             Harrogate\n",
       "44       Hemel Hempstead\n",
       "45          High Wycombe\n",
       "46          Huddersfield\n",
       "47               Ipswich\n",
       "54                 Luton\n",
       "55             Maidstone\n",
       "57             Mansfield\n",
       "58         Middlesbrough\n",
       "59         Milton Keynes\n",
       "66                Oldham\n",
       "68          Peterborough\n",
       "69              Plymouth\n",
       "70                 Poole\n",
       "74              Redditch\n",
       "76             Rotherham\n",
       "77               Salford\n",
       "78            Scunthorpe\n",
       "80            Shrewsbury\n",
       "81                Slough\n",
       "82              Solihull\n",
       "85       Southend-on-Sea\n",
       "86             Southport\n",
       "88             St Helens\n",
       "89             Stevenage\n",
       "90             Stockport\n",
       "91      Stockton-on-Tees\n",
       "94      Sutton Coldfield\n",
       "97             Wakefield\n",
       "99            Warrington\n",
       "102    Weston-Super-Mare\n",
       "103                Wigan\n",
       "104               Woking\n",
       "107             Worthing\n",
       "Name: town/city, dtype: object"
      ]
     },
     "execution_count": 113,
     "metadata": {},
     "output_type": "execute_result"
    }
   ],
   "source": [
    "#check cluster 2\n",
    "df[df['cluster'] == 2]['town/city']"
   ]
  },
  {
   "cell_type": "code",
   "execution_count": null,
   "metadata": {},
   "outputs": [],
   "source": []
  }
 ],
 "metadata": {
  "interpreter": {
   "hash": "1307b2f0274cda4327207fa611ac8d9b602cb577605aa906c453d312145c78f2"
  },
  "kernelspec": {
   "display_name": "Python 3.9.7 64-bit ('playground': conda)",
   "name": "python3"
  },
  "language_info": {
   "codemirror_mode": {
    "name": "ipython",
    "version": 3
   },
   "file_extension": ".py",
   "mimetype": "text/x-python",
   "name": "python",
   "nbconvert_exporter": "python",
   "pygments_lexer": "ipython3",
   "version": "3.9.7"
  },
  "orig_nbformat": 4
 },
 "nbformat": 4,
 "nbformat_minor": 2
}
